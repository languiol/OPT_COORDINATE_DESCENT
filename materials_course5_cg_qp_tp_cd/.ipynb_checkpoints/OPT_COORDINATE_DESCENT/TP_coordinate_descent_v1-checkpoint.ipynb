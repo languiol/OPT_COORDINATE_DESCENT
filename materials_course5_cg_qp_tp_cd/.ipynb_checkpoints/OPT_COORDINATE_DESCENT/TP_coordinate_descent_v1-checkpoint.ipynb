{
 "cells": [
  {
   "cell_type": "markdown",
   "metadata": {},
   "source": [
    "# TP : Proximal coordinate descent method on regression models\n",
    "\n",
    "#### Authors: S. Gaiffas, A. Gramfort\n",
    "\n",
    "## Aim\n",
    "\n",
    "The aim of this material is to code \n",
    "- proximal coordinate descent\n",
    "\n",
    "for \n",
    "- Lasso / L1 linear regression\n",
    "- non-negative least squares (NNLS)\n",
    "\n",
    "models.\n",
    "\n",
    "The proximal operators we will use are the \n",
    "- L1 penalization\n",
    "- indicator function of $\\mathbb{R}_+$\n",
    "\n",
    "## VERY IMPORTANT\n",
    "\n",
    "- This work **must be done by pairs of students**.\n",
    "- **Each** student must send their work **before the 23th of october at 23:59**, using the **moodle platform**.\n",
    "- This means that **each student in the pair sends the same file**\n",
    "- On the moodle, in the \"Optimization for Data Science\" course, you have a \"devoir\" section called **Rendu TP du 17 octobre 2016**. This is where you submit your jupyter notebook file. \n",
    "- The **name of the file must be** constructed as in the next cell\n",
    "\n",
    "# Gentle reminder: no evaluation if you don't respect this EXACTLY\n",
    "\n",
    "### How to construct the name of your file"
   ]
  },
  {
   "cell_type": "code",
   "execution_count": 1,
   "metadata": {
    "collapsed": false
   },
   "outputs": [
    {
     "name": "stdout",
     "output_type": "stream",
     "text": [
      "tp_cd_gaiffas_stephane_and_gramfort_alexandre.ipynb\n"
     ]
    }
   ],
   "source": [
    "# Change here using YOUR first and last names\n",
    "fn1 = \"stephane\"\n",
    "ln1 = \"gaiffas\"\n",
    "fn2 = \"alexandre\"\n",
    "ln2 = \"gramfort\"\n",
    "\n",
    "filename = \"_\".join(map(lambda s: s.strip().lower(), \n",
    "                        [\"tp_cd\", ln1, fn1, \"and\", ln2, fn2])) + \".ipynb\"\n",
    "print(filename)"
   ]
  },
  {
   "cell_type": "code",
   "execution_count": 2,
   "metadata": {
    "collapsed": true
   },
   "outputs": [],
   "source": [
    "## to embed figures in the notebook\n",
    "%matplotlib inline"
   ]
  },
  {
   "cell_type": "markdown",
   "metadata": {},
   "source": [
    "## Part 0 : Introduction\n",
    "\n",
    "We'll start by generating sparse positive vectors and simulating data\n",
    "\n",
    "### Getting sparse coefficients"
   ]
  },
  {
   "cell_type": "code",
   "execution_count": 3,
   "metadata": {
    "collapsed": true
   },
   "outputs": [],
   "source": [
    "import numpy as np\n",
    "import matplotlib.pyplot as plt\n",
    "\n",
    "np.set_printoptions(precision=2)  # to have simpler print outputs with numpy"
   ]
  },
  {
   "cell_type": "code",
   "execution_count": 4,
   "metadata": {
    "collapsed": false,
    "scrolled": false
   },
   "outputs": [
    {
     "data": {
      "text/plain": [
       "<matplotlib.text.Text at 0x1da2bea2da0>"
      ]
     },
     "execution_count": 4,
     "metadata": {},
     "output_type": "execute_result"
    },
    {
     "data": {
      "image/png": "[encoded data removed]",
      "text/plain": [
       "<matplotlib.figure.Figure at 0x1da2be1f668>"
      ]
     },
     "metadata": {},
     "output_type": "display_data"
    }
   ],
   "source": [
    "n_features = 50\n",
    "n_samples = 1000\n",
    "idx = np.arange(n_features)\n",
    "coefs = (idx % 2) * np.exp(-idx / 10.)\n",
    "coefs[20:] = 0.\n",
    "plt.stem(coefs)\n",
    "plt.title(\"Parameters / Coefficients\")"
   ]
  },
  {
   "cell_type": "markdown",
   "metadata": {},
   "source": [
    "### Functions for the simulation of the models"
   ]
  },
  {
   "cell_type": "code",
   "execution_count": 230,
   "metadata": {
    "collapsed": false
   },
   "outputs": [],
   "source": [
    "from numpy.random import multivariate_normal\n",
    "from scipy.linalg.special_matrices import toeplitz\n",
    "from numpy.random import randn\n",
    "\n",
    "\n",
    "def simu_linreg(coefs, n_samples=1000, corr=0.5):\n",
    "    \"\"\"Simulation of a linear regression model\n",
    "    \n",
    "    Parameters\n",
    "    ----------\n",
    "    coefs : `numpy.array`, shape=(n_features,)\n",
    "        Coefficients of the model\n",
    "    \n",
    "    n_samples : `int`, default=1000\n",
    "        Number of samples to simulate\n",
    "    \n",
    "    corr : `float`, default=0.5\n",
    "        Correlation of the features\n",
    "\n",
    "    Returns\n",
    "    -------\n",
    "    A : `numpy.ndarray`, shape=(n_samples, n_features)\n",
    "        Simulated features matrix. It samples of a centered Gaussian \n",
    "        vector with covariance given by the Toeplitz matrix\n",
    "    \n",
    "    b : `numpy.array`, shape=(n_samples,)\n",
    "        Simulated labels\n",
    "    \"\"\"\n",
    "    # Construction of a covariance matrix\n",
    "    cov = toeplitz(corr ** np.arange(0, n_features))\n",
    "    # Simulation of features\n",
    "    A = multivariate_normal(np.zeros(n_features), cov, size=n_samples)\n",
    "    # Simulation of the labels\n",
    "    b = A.dot(coefs) + randn(n_samples)\n",
    "    \n",
    "    return A, b"
   ]
  },
  {
   "cell_type": "markdown",
   "metadata": {},
   "source": [
    "## Proximal operators and Solver\n"
   ]
  },
  {
   "cell_type": "markdown",
   "metadata": {},
   "source": [
    "We remind that the proximal operator of a fonction $g$ is given by:\n",
    "\n",
    "$$\n",
    "\\text{prox}_g(y, t) = \\arg\\min_x \\Big\\{ \\frac 12 \\|x - y\\|_2^2 + t g(x) \\Big\\}.\n",
    "$$\n",
    "\n",
    "where $t \\geq 0$ is a non-negative number.\n",
    "We have in mind to use the following cases\n",
    "\n",
    "- Lasso penalization, where $g(x) = s \\|x\\|_1$\n",
    "- Indicator function of $\\mathbb{R}_+$, where $g(x) = i_{x \\geq 0}(\\cdot)$\n",
    "\n",
    "where $s \\geq 0$ is a regularization parameter."
   ]
  },
  {
   "cell_type": "markdown",
   "metadata": {},
   "source": [
    "We want to minimize:\n",
    "$$\n",
    "\\arg\\min_x F(x)\n",
    "$$\n",
    "with\n",
    "$$\n",
    " F(x) = \\frac{1}{2} \\|b - Ax\\|^2 + g(x)\n",
    "$$\n",
    "\n",
    "## Questions\n",
    "\n",
    "- Code a function that computes $g(x)$ and $\\text{prox}_g(x)$ for in both cases\n",
    "- Justify why proximal coordinate descent can be applied to obtain a minimum of such objective functions.\n",
    "- Starting from the code provided in the notebook presented during the coordinate descent course as well as the code below, implement a proximal coordinate method for both penalties.\n",
    "- Evaluate qualitatively the convergence when varying the conditioning of the problem.\n",
    "- Bonus: Try to show that coordinate is much less affected by bad conditioning that proximal gradient descent.\n",
    "\n",
    "### You are expected to implement the smart residuals updates !\n",
    "\n",
    "### You are very welcome to reuse everything you did for TP1 !"
   ]
  },
  {
   "cell_type": "markdown",
   "metadata": {},
   "source": [
    "\n",
    "## Code a function that computes $g(x)$ and $\\text{prox}_g(x)$ for in both cases\n",
    "** Lasso**"
   ]
  },
  {
   "cell_type": "code",
   "execution_count": 231,
   "metadata": {
    "collapsed": true
   },
   "outputs": [],
   "source": [
    "# Define g(x)\n",
    "def lasso(x, s):\n",
    "    \"\"\"Value of the Lasso penalization at x with strength t\"\"\"\n",
    "    return s*np.linalg.norm(x, 1)\n",
    "\n",
    "# Define proxg(x)\n",
    "def prox_lasso(x, s, t=1.):\n",
    "    \"\"\"Proximal operator for the Lasso at x with strength t\"\"\"\n",
    "    return np.multiply(np.sign(x), np.maximum(np.absolute(x) - s*t, 0))"
   ]
  },
  {
   "cell_type": "code",
   "execution_count": 232,
   "metadata": {
    "collapsed": false
   },
   "outputs": [
    {
     "name": "stdout",
     "output_type": "stream",
     "text": [
      "[-125  -25    5   -1    0]\n",
      "[-19500.  -3900.    780.   -156.      0.]\n",
      "[ 0.    0.9   0.    0.74  0.    0.61  0.    0.5   0.    0.41  0.    0.33\n",
      "  0.    0.27  0.    0.22  0.    0.18  0.    0.15  0.    0.    0.    0.    0.\n",
      "  0.    0.    0.    0.    0.    0.    0.    0.    0.    0.    0.    0.    0.\n",
      "  0.    0.    0.    0.    0.    0.    0.    0.    0.    0.    0.    0.  ]\n"
     ]
    },
    {
     "ename": "IndexError",
     "evalue": "index 0 is out of bounds for axis 0 with size 0",
     "output_type": "error",
     "traceback": [
      "\u001b[1;31m---------------------------------------------------------------------------\u001b[0m",
      "\u001b[1;31mIndexError\u001b[0m                                Traceback (most recent call last)",
      "\u001b[1;32m<ipython-input-232-c1582f693444>\u001b[0m in \u001b[0;36m<module>\u001b[1;34m()\u001b[0m\n\u001b[0;32m      8\u001b[0m \u001b[1;32mfor\u001b[0m \u001b[0mi\u001b[0m \u001b[1;32min\u001b[0m \u001b[0mrange\u001b[0m\u001b[1;33m(\u001b[0m\u001b[0mlen\u001b[0m\u001b[1;33m(\u001b[0m\u001b[0ms\u001b[0m\u001b[1;33m)\u001b[0m\u001b[1;33m)\u001b[0m\u001b[1;33m:\u001b[0m\u001b[1;33m\u001b[0m\u001b[0m\n\u001b[0;32m      9\u001b[0m     \u001b[1;32mif\u001b[0m \u001b[0mnp\u001b[0m\u001b[1;33m.\u001b[0m\u001b[0many\u001b[0m\u001b[1;33m(\u001b[0m\u001b[0ms\u001b[0m\u001b[1;33m[\u001b[0m\u001b[0mi\u001b[0m\u001b[1;33m]\u001b[0m\u001b[1;33m<\u001b[0m\u001b[1;36m0\u001b[0m\u001b[1;33m)\u001b[0m\u001b[1;33m:\u001b[0m\u001b[1;33m\u001b[0m\u001b[0m\n\u001b[1;32m---> 10\u001b[1;33m         \u001b[0ma\u001b[0m\u001b[1;33m[\u001b[0m\u001b[0mi\u001b[0m\u001b[1;33m]\u001b[0m\u001b[1;33m=\u001b[0m\u001b[0mnp\u001b[0m\u001b[1;33m.\u001b[0m\u001b[0minf\u001b[0m\u001b[1;33m\u001b[0m\u001b[0m\n\u001b[0m\u001b[0;32m     11\u001b[0m     \u001b[0mprint\u001b[0m\u001b[1;33m(\u001b[0m\u001b[1;34m\"ha\"\u001b[0m\u001b[1;33m,\u001b[0m \u001b[0ma\u001b[0m\u001b[1;33m[\u001b[0m\u001b[0mi\u001b[0m\u001b[1;33m]\u001b[0m\u001b[1;33m)\u001b[0m\u001b[1;33m\u001b[0m\u001b[0m\n\u001b[0;32m     12\u001b[0m \u001b[1;33m\u001b[0m\u001b[0m\n",
      "\u001b[1;31mIndexError\u001b[0m: index 0 is out of bounds for axis 0 with size 0"
     ]
    }
   ],
   "source": [
    "s = np.array([-125, -25, 5, -1,0])\n",
    "print(s)\n",
    "y=s*np.linalg.norm(s, 1)\n",
    "print(y)\n",
    "\n",
    "print(coefs)\n",
    "\n",
    "for i in range(len(s)):\n",
    "    if np.any(s[i]<0):\n",
    "        a[i]=np.inf\n",
    "    print(\"ha\", a[i])\n",
    "\n",
    "A1, b1 = simu_linreg(coefs, n_samples=1000, corr=0.5)\n",
    "print((len(s)))\n",
    "c=np.inf\n",
    "print(c)\n",
    "\n",
    "a_new = np.array([])\n",
    "a = np.array([])\n",
    "for i in range(len(s)):\n",
    "    if np.any(s[i]<0):\n",
    "        a[i]=np.inf\n",
    "        print(a[i])\n",
    "    else :\n",
    "        a[i]=0 \n",
    "    \n",
    "    a_new=np.append(a_new,a[i])\n",
    "\n",
    "print(a)"
   ]
  },
  {
   "cell_type": "markdown",
   "metadata": {},
   "source": [
    "**NNLS**"
   ]
  },
  {
   "cell_type": "code",
   "execution_count": 233,
   "metadata": {
    "collapsed": false
   },
   "outputs": [],
   "source": [
    "def indicator(x, s):\n",
    "    \"\"\"Value of the indicator function of R+ penalisation at x with strength s\"\"\"\n",
    "    if s == 0:\n",
    "        return 0\n",
    "    return np.inf if any(x < 0) else 0\n",
    "\n",
    "def prox_indicator(x, s, t=1.):\n",
    "    \"\"\"Proximal operator for indicator function of R+ at x with strength s\"\"\"\n",
    "    return x if t*s == 0 else np.maximum(x, 0)"
   ]
  },
  {
   "cell_type": "markdown",
   "metadata": {},
   "source": [
    "## Justify why proximal coordinate descent can be applied to obtain a minimum of such objective functions"
   ]
  },
  {
   "cell_type": "markdown",
   "metadata": {},
   "source": [
    "- f is strickly convex, \n",
    "- f is continuously differentiable and gradient of f is Lipschitz\n",
    "- each gi convex"
   ]
  },
  {
   "cell_type": "markdown",
   "metadata": {},
   "source": [
    "## Starting from the code provided in the notebook presented during the coordinate descent course as well as the code below, implement a proximal coordinate method for both penalties"
   ]
  },
  {
   "cell_type": "code",
   "execution_count": 234,
   "metadata": {
    "collapsed": false
   },
   "outputs": [],
   "source": [
    "def cd_linreg(x0, A, b, g, prox_g, s=0., n_iter=50, x_true=coefs, verbose=True):\n",
    "    \"\"\"Proximal gradient descent algorithm\n",
    "\n",
    "    Minimize :\n",
    "    \n",
    "    1/2 ||b−Ax||^2 + s * g(x)\n",
    "    \n",
    "    with coodinate descent.\n",
    "    \"\"\"\n",
    "   \n",
    "    \n",
    "    x = x0.copy()\n",
    "    x_new = x0.copy()\n",
    "    n_samples, n_features = A.shape\n",
    "    \n",
    "    r = b - A.dot(x)\n",
    "\n",
    "    # estimation error history\n",
    "    errors = []\n",
    "    # objective history\n",
    "    objectives = []\n",
    "    # Current estimation error\n",
    "    err = np.linalg.norm(x - x_true) / np.linalg.norm(x_true)\n",
    "    errors.append(err)\n",
    "    # Current objective\n",
    "    obj = 0.5 * np.linalg.norm(b - A.dot(x))**2 + g(x, s)\n",
    "    objectives.append(obj)\n",
    "    \n",
    "    #Define Lipschitz constant\n",
    "    Li = np.sum(A * A, axis=0)\n",
    "    \n",
    "    \n",
    "    if verbose:\n",
    "        print(\"Lauching Coordinate Descent solver...\")\n",
    "        print(' | '.join([name.center(8) for name in [\"it\", \"obj\", \"err\"]]))\n",
    "\n",
    "            \n",
    "    for k in range(n_iter + 1):\n",
    "        #### TODO ####\n",
    "        i = k % n_features\n",
    "      \n",
    "        x_new[i] += A[:, i].T.dot(r) / Li[i]\n",
    "        x_new[i] = prox_g(x_new[i], s, 1/Li[i])\n",
    "        r -= (x_new[i] - x[i]) * A[:, i]\n",
    "        x[i] = x_new[i]\n",
    "\n",
    "                \n",
    "        obj = 0.5 * np.linalg.norm(b - A.dot(x))**2 + g(x, s)\n",
    "        err = np.linalg.norm(x - x_true) / np.linalg.norm(x_true)\n",
    "        errors.append(err)\n",
    "        objectives.append(obj)\n",
    "        if k % 10 == 0 and verbose:\n",
    "           print(' | '.join([(\"%d\" % k).rjust(8), (\"%.2e\" % obj).rjust(8), (\"%.2e\" % err).rjust(8)]))       \n",
    "    \n",
    "    return x, objectives, errors"
   ]
  },
  {
   "cell_type": "markdown",
   "metadata": {},
   "source": [
    "## Evaluate qualitatively the convergence when varying the conditioning of the problem"
   ]
  },
  {
   "cell_type": "code",
   "execution_count": 246,
   "metadata": {
    "collapsed": false
   },
   "outputs": [
    {
     "name": "stdout",
     "output_type": "stream",
     "text": [
      "[2450.8767876581637, 2288.8821309652731, 1902.1522164969313, 1816.7266904511141, 1544.1858070519413, 1504.5518076800984, 1301.8895255865134, 1280.2839453794882, 1178.2353025164962, 1148.0921857704407, 1077.6664519856365, 1055.4590628090721, 1023.6345979425116, 1020.725939252646, 998.86117581281769, 992.10396021973338, 966.67113679099998, 965.08017985376864, 952.06125303504223, 951.99321775406645, 947.08196710905918, 947.07826306248012, 943.45307732905474, 943.39609552445961, 943.39585258167244, 939.96959111167428, 939.79370126297476, 939.41301732943464, 939.36347717060892, 939.05332094220182, 938.42604134112787, 937.80648175564102, 937.70470112010298, 936.82339592159042, 936.82338707666986, 936.60337462413452, 936.57918054367235, 936.56080957830045, 936.49613389526996, 936.3429562524741, 936.16343841056482, 935.85644706043058, 935.48690676983904, 933.75933831238297, 932.25629154664148, 931.44714774955958, 931.44142504275624, 930.93897506975657, 930.81209354490409, 930.8117970609303, 930.26940519668995, 722.04230214412439]\n",
      "333333333333333333333333333333333333 [2450.8767876581637, 2288.8821309652731, 1902.1522164969313, 1816.7266904511141, 1544.1858070519413, 1504.5518076800984, 1301.8895255865134, 1280.2839453794882, 1178.2353025164962, 1148.0921857704407, 1077.6664519856365, 1055.4590628090721, 1023.6345979425116, 1020.725939252646, 998.86117581281769, 992.10396021973338, 966.67113679099998, 965.08017985376864, 952.06125303504223, 951.99321775406645, 947.08196710905918, 947.07826306248012, 943.45307732905474, 943.39609552445961, 943.39585258167244, 939.96959111167428, 939.79370126297476, 939.41301732943464, 939.36347717060892, 939.05332094220182, 938.42604134112787, 937.80648175564102, 937.70470112010298, 936.82339592159042, 936.82338707666986, 936.60337462413452, 936.57918054367235, 936.56080957830045, 936.49613389526996, 936.3429562524741, 936.16343841056482, 935.85644706043058, 935.48690676983904, 933.75933831238297, 932.25629154664148, 931.44714774955958, 931.44142504275624, 930.93897506975657, 930.81209354490409, 930.8117970609303, 930.26940519668995, 722.04230214412439]\n"
     ]
    },
    {
     "name": "stderr",
     "output_type": "stream",
     "text": [
      "C:\\Users\\Olivier\\Anaconda3\\lib\\site-packages\\matplotlib\\axes\\_axes.py:519: UserWarning: No labelled objects found. Use label='...' kwarg on individual plots.\n",
      "  warnings.warn(\"No labelled objects found. \"\n"
     ]
    },
    {
     "data": {
      "text/plain": [
       "[<matplotlib.lines.Line2D at 0x1da3030e748>]"
      ]
     },
     "execution_count": 246,
     "metadata": {},
     "output_type": "execute_result"
    },
    {
     "data": {
      "image/png": "[encoded data removed]",
      "text/plain": [
       "<matplotlib.figure.Figure at 0x1da2ebe82e8>"
      ]
     },
     "metadata": {},
     "output_type": "display_data"
    },
    {
     "data": {
      "image/png": "[encoded data removed]",
      "text/plain": [
       "<matplotlib.figure.Figure at 0x1da302bb9b0>"
      ]
     },
     "metadata": {},
     "output_type": "display_data"
    }
   ],
   "source": [
    "A, b = simu_linreg(coefs, n_samples=1000, corr=0.5)\n",
    "x0 = np.zeros(n_features)\n",
    "\n",
    "x_l, obj_l, err_l = cd_linreg(x0, A, b, lasso, prox_lasso, s=0., n_iter=50,x_true=coefs, verbose=False)\n",
    "\n",
    "\n",
    "x_i, obj_i, err_i = cd_linreg(x0, A, b, indicator, prox_indicator, s=0., n_iter=50,x_true=coefs, verbose=False)\n",
    "n_iter=50\n",
    "print (obj_l)\n",
    "print (\"333333333333333333333333333333333333\",       obj_i)\n",
    "\n",
    "fig, ax = plt.subplots()\n",
    "plt.plot(iteration, obj_l )\n",
    "plt.plot(iteration, obj_i )\n",
    "#ax.semilogy(np.arange(len(obj1)), obj1, label=\"***LINREG*** ISTA error for s=%s\" %s)\n",
    "#ax.semilogy(np.arange(len(obj2)), obj2, label=\"***LINREG*** ISTA error for s=%s\" %s)\n",
    "legend = ax.legend(bbox_to_anchor=(1.05, 1), loc=2, borderaxespad=0.)\n",
    "\n",
    "fig, ax = plt.subplots()\n",
    "plt.plot(np.arange(len(err1)), err1, label=\"Error\")\n",
    "plt.plot(np.arange(len(err2)), err2, label=\"Objective\")"
   ]
  },
  {
   "cell_type": "markdown",
   "metadata": {},
   "source": [
    "## Bonus: Try to show that coordinate is much less affected by bad conditioning that proximal gradient descent."
   ]
  },
  {
   "cell_type": "code",
   "execution_count": 236,
   "metadata": {
    "collapsed": false
   },
   "outputs": [
    {
     "data": {
      "image/png": "[encoded data removed]",
      "text/plain": [
       "<matplotlib.figure.Figure at 0x1da2eaf6ac8>"
      ]
     },
     "metadata": {},
     "output_type": "display_data"
    },
    {
     "data": {
      "image/png": "[encoded data removed]",
      "text/plain": [
       "<matplotlib.figure.Figure at 0x1da2f0a99e8>"
      ]
     },
     "metadata": {},
     "output_type": "display_data"
    }
   ],
   "source": [
    "A1, b1 = simu_linreg(coefs, n_samples=1000, corr=0.5)\n",
    "x0 = np.zeros(n_features)\n",
    "obj_n1= np.array([])\n",
    "obj_n2= np.array([])\n",
    "k=5\n",
    "n_iter=50\n",
    "\n",
    "for i in range(k):\n",
    "\n",
    "    s=i/10\n",
    "    x1, obj1, err1 = cd_linreg(x0, A1, b1, lasso, prox_lasso, s=0., n_iter=50,x_true=coefs, verbose=False)\n",
    "    x2, obj2, err2 = cd_linreg(x0, A1, b1, indicator, prox_lasso, s=0., n_iter=50,x_true=coefs, verbose=False)\n",
    "    obj_n1=np.append(obj_n1,obj1)\n",
    "    obj_n2=np.append(obj_n2,obj2)\n",
    "\n",
    "obj_n1 = obj_n1.reshape(k,len(obj1))\n",
    "obj_n2= obj_n2.reshape(k,len(obj2))\n",
    "\n",
    "fig, ax = plt.subplots()    \n",
    "for i in range(k): \n",
    "    s=i/10\n",
    "    plt.plot(iteration, obj1, label=\"LASSO s=%s\" %s )\n",
    "    legend = ax.legend(bbox_to_anchor=(1.05, 1), loc=2, borderaxespad=0.)\n",
    "    \n",
    "fig, ax = plt.subplots()    \n",
    "for i in range(k): \n",
    "    s=i/10\n",
    "    plt.plot(iteration, obj2, label=\"NNLS s=%s\" %s )\n",
    "    legend = ax.legend(bbox_to_anchor=(1.05, 1), loc=2, borderaxespad=0.)\n"
   ]
  },
  {
   "cell_type": "code",
   "execution_count": null,
   "metadata": {
    "collapsed": false
   },
   "outputs": [],
   "source": []
  },
  {
   "cell_type": "code",
   "execution_count": 237,
   "metadata": {
    "collapsed": true
   },
   "outputs": [],
   "source": [
    "def pcd_linreg(x0, A, b, g, prox_g, s=0., n_iter=50, x_true=coefs, verbose=True):\n",
    "    \"\"\"Proximal gradient descent algorithm\n",
    "\n",
    "    Minimize :\n",
    "    \n",
    "    1/2 ||b−Ax||^2 + s * g(x)\n",
    "    \n",
    "    with coodinate descent.\n",
    "    \"\"\"\n",
    "   \n",
    "    \n",
    "    x = x0.copy()\n",
    "    x_new = x0.copy()\n",
    "    n_samples, n_features = A.shape\n",
    "\n",
    "    # estimation error history\n",
    "    errors = []\n",
    "    # objective history\n",
    "    objectives = []\n",
    "    # Current estimation error\n",
    "    err = np.linalg.norm(x - x_true) / np.linalg.norm(x_true)\n",
    "    errors.append(err)\n",
    "    # Current objective\n",
    "    obj = 0.5 * np.linalg.norm(b - A.dot(x))**2 + g(x, s)\n",
    "    objectives.append(obj)\n",
    "    \n",
    "    #Define Lipschitz constant\n",
    "    Li = np.sum(A * A, axis=0)\n",
    "    \n",
    "    \n",
    "    if verbose:\n",
    "        print(\"Lauching Coordinate Descent solver...\")\n",
    "        print(' | '.join([name.center(8) for name in [\"it\", \"obj\", \"err\"]]))\n",
    "\n",
    "            \n",
    "    for k in range(n_iter + 1):\n",
    "        #### TODO ####\n",
    "        i = k % n_features\n",
    "        r = b - np.dot(A, x)\n",
    "        \n",
    "        \n",
    "        temp = prox_g(x[i] -  1/Li * \"gradient indicatrice\", s, t=1.)\n",
    "        x[i] = temp\n",
    "                \n",
    "        obj = 0.5 * np.linalg.norm(b - A.dot(x))**2 + g(x, s)\n",
    "        err = np.linalg.norm(x - x_true) / np.linalg.norm(x_true)\n",
    "        errors.append(err)\n",
    "        objectives.append(obj)\n",
    "        if k % 10 == 0 and verbose:\n",
    "           print(' | '.join([(\"%d\" % k).rjust(8), (\"%.2e\" % obj).rjust(8), (\"%.2e\" % err).rjust(8)]))       \n",
    "    \n",
    "    return x, objectives, errors"
   ]
  },
  {
   "cell_type": "code",
   "execution_count": null,
   "metadata": {
    "collapsed": true
   },
   "outputs": [],
   "source": []
  }
 ],
 "metadata": {
  "anaconda-cloud": {},
  "kernelspec": {
   "display_name": "Python [Root]",
   "language": "python",
   "name": "Python [Root]"
  },
  "language_info": {
   "codemirror_mode": {
    "name": "ipython",
    "version": 3
   },
   "file_extension": ".py",
   "mimetype": "text/x-python",
   "name": "python",
   "nbconvert_exporter": "python",
   "pygments_lexer": "ipython3",
   "version": "3.5.2"
  },
  "widgets": {
   "state": {},
   "version": "1.1.2"
  }
 },
 "nbformat": 4,
 "nbformat_minor": 0
}
